{
  "nbformat": 4,
  "nbformat_minor": 0,
  "metadata": {
    "colab": {
      "provenance": [],
      "authorship_tag": "ABX9TyOecJVBElsR5FdBGMceYxd7",
      "include_colab_link": true
    },
    "kernelspec": {
      "name": "python3",
      "display_name": "Python 3"
    },
    "language_info": {
      "name": "python"
    }
  },
  "cells": [
    {
      "cell_type": "markdown",
      "metadata": {
        "id": "view-in-github",
        "colab_type": "text"
      },
      "source": [
        "<a href=\"https://colab.research.google.com/github/Jad256/People-Also-Ask---data-for-analysis/blob/main/People_Also_Ask_data_for_analysis.ipynb\" target=\"_parent\"><img src=\"https://colab.research.google.com/assets/colab-badge.svg\" alt=\"Open In Colab\"/></a>"
      ]
    },
    {
      "cell_type": "code",
      "execution_count": 12,
      "metadata": {
        "colab": {
          "base_uri": "https://localhost:8080/"
        },
        "id": "N8S3S2ygGIeX",
        "outputId": "43042069-b869-4eac-af2c-a6daa28b915a"
      },
      "outputs": [
        {
          "output_type": "stream",
          "name": "stdout",
          "text": [
            "Drive already mounted at /content/drive; to attempt to forcibly remount, call drive.mount(\"/content/drive\", force_remount=True).\n"
          ]
        }
      ],
      "source": [
        "# Data exploration\n",
        "from google.colab import drive\n",
        "drive.mount('/content/drive')"
      ]
    },
    {
      "cell_type": "code",
      "source": [
        "# Data exploration\n",
        "import pandas as pd\n",
        "\n",
        "file_path = '/content/drive/My Drive/People Also Ask - data for analysis.xlsx' # Loading Dataset\n",
        "data = pd.read_excel(file_path)\n",
        "\n",
        "print(\"Data Overview:\")\n",
        "print(data.info())  # Structure and data types"
      ],
      "metadata": {
        "colab": {
          "base_uri": "https://localhost:8080/"
        },
        "id": "42trwC-FM1BV",
        "outputId": "24220020-3591-414a-9f16-de2471ed7e23"
      },
      "execution_count": 21,
      "outputs": [
        {
          "output_type": "stream",
          "name": "stdout",
          "text": [
            "Data Overview:\n",
            "<class 'pandas.core.frame.DataFrame'>\n",
            "RangeIndex: 498 entries, 0 to 497\n",
            "Data columns (total 5 columns):\n",
            " #   Column       Non-Null Count  Dtype \n",
            "---  ------       --------------  ----- \n",
            " 0   prompt       498 non-null    object\n",
            " 1   question     496 non-null    object\n",
            " 2   title        495 non-null    object\n",
            " 3   description  495 non-null    object\n",
            " 4   link         495 non-null    object\n",
            "dtypes: object(5)\n",
            "memory usage: 19.6+ KB\n",
            "None\n"
          ]
        }
      ]
    },
    {
      "cell_type": "code",
      "source": [
        "print(data.describe) # Structure and data types"
      ],
      "metadata": {
        "colab": {
          "base_uri": "https://localhost:8080/"
        },
        "id": "88sWpVrcPP2I",
        "outputId": "7404b10e-7fec-4b0e-d6f8-db4b2d828b9e"
      },
      "execution_count": 19,
      "outputs": [
        {
          "output_type": "stream",
          "name": "stdout",
          "text": [
            "<bound method NDFrame.describe of                                                 prompt  \\\n",
            "0    Are there smoking options that don’t produce s...   \n",
            "1    Are there smoking options that don’t produce s...   \n",
            "2    Are there smoking options that don’t produce s...   \n",
            "3    Are there smoking options that don’t produce s...   \n",
            "4    How can I smoke without affecting others aroun...   \n",
            "..                                                 ...   \n",
            "493  Do smoke-free products contribute less to litt...   \n",
            "494  Which smoke-free products are made from sustai...   \n",
            "495  Which smoke-free products are made from sustai...   \n",
            "496  Which smoke-free products are made from sustai...   \n",
            "497  Which smoke-free products are made from sustai...   \n",
            "\n",
            "                                             question  \\\n",
            "0                  What is the safest smoking option?   \n",
            "1           Can lungs heal after 40 years of smoking?   \n",
            "2           Is there such a thing as passive smoking?   \n",
            "3                 How long does thirdhand smoke last?   \n",
            "4    How do you not get affected by secondhand smoke?   \n",
            "..                                                ...   \n",
            "493                    Why do so many smokers litter?   \n",
            "494                     What are smoke-free products?   \n",
            "495         What are the innovative tobacco products?   \n",
            "496                  What are Philip Morris products?   \n",
            "497                   What are reduced risk products?   \n",
            "\n",
            "                                                 title  \\\n",
            "0          Are there safe smoking and tobacco options?   \n",
            "1     Lungs 'magically' heal damage from smoking - BBC   \n",
            "2              Passive smoking - Better Health Channel   \n",
            "3             Thirdhand Smoke Beliefs of Parents - PMC   \n",
            "4    Heart attack prevention: Should I avoid second...   \n",
            "..                                                 ...   \n",
            "493             Why do smokers litter so much? - Quora   \n",
            "494  What are smoke-free products | Glossary - Phil...   \n",
            "495      Nicotine innovation: pouches and beyond - NPR   \n",
            "496                      Philip Morris USA - Wikipedia   \n",
            "497  Reduced-risk products RRPs | PMI - Philip Morr...   \n",
            "\n",
            "                                           description  \\\n",
            "0    There is no safe smoking option – tobacco is a...   \n",
            "1    The mutations that lead to lung cancer had bee...   \n",
            "2    Passive smoking means breathing in other peopl...   \n",
            "3    Thirdhand smoke is a toxic residue that settle...   \n",
            "4    Choose smoke-free places such as restaurants o...   \n",
            "..                                                 ...   \n",
            "493  Smokers may litter more frequently for several...   \n",
            "494  These alternatives to smoking includes heated ...   \n",
            "495  Zyn, Velo and other nicotine pouches are surgi...   \n",
            "496  It has been the leading cigarette manufacturer...   \n",
            "497  We use the term reduced-risk products to refer...   \n",
            "\n",
            "                                                  link  \n",
            "0    https://www.health.gov.au/topics/smoking-vapin...  \n",
            "1             https://www.bbc.com/news/health-51279355  \n",
            "2    https://www.betterhealth.vic.gov.au/health/con...  \n",
            "3    https://pmc.ncbi.nlm.nih.gov/articles/PMC3966506/  \n",
            "4    https://www.mayoclinic.org/diseases-conditions...  \n",
            "..                                                 ...  \n",
            "493  https://www.quora.com/Why-do-smokers-litter-so...  \n",
            "494  https://www.pmi.com/glossary-section/glossary/...  \n",
            "495  https://www.npr.org/2024/09/06/nx-s1-5090797/n...  \n",
            "496    https://en.wikipedia.org/wiki/Philip_Morris_USA  \n",
            "497  https://www.pmi.com/glossary-section/glossary/...  \n",
            "\n",
            "[498 rows x 5 columns]>\n"
          ]
        }
      ]
    },
    {
      "cell_type": "code",
      "source": [
        "print(\"\\nFirst Few Rows:\")\n",
        "print(data.head())  # Display the first 5 rows"
      ],
      "metadata": {
        "colab": {
          "base_uri": "https://localhost:8080/"
        },
        "id": "5J7WfisGM0_O",
        "outputId": "af876621-a121-4baf-b625-15f83ab162b8"
      },
      "execution_count": 16,
      "outputs": [
        {
          "output_type": "stream",
          "name": "stdout",
          "text": [
            "\n",
            "First Few Rows:\n",
            "                                              prompt  \\\n",
            "0  Are there smoking options that don’t produce s...   \n",
            "1  Are there smoking options that don’t produce s...   \n",
            "2  Are there smoking options that don’t produce s...   \n",
            "3  Are there smoking options that don’t produce s...   \n",
            "4  How can I smoke without affecting others aroun...   \n",
            "\n",
            "                                           question  \\\n",
            "0                What is the safest smoking option?   \n",
            "1         Can lungs heal after 40 years of smoking?   \n",
            "2         Is there such a thing as passive smoking?   \n",
            "3               How long does thirdhand smoke last?   \n",
            "4  How do you not get affected by secondhand smoke?   \n",
            "\n",
            "                                               title  \\\n",
            "0        Are there safe smoking and tobacco options?   \n",
            "1   Lungs 'magically' heal damage from smoking - BBC   \n",
            "2            Passive smoking - Better Health Channel   \n",
            "3           Thirdhand Smoke Beliefs of Parents - PMC   \n",
            "4  Heart attack prevention: Should I avoid second...   \n",
            "\n",
            "                                         description  \\\n",
            "0  There is no safe smoking option – tobacco is a...   \n",
            "1  The mutations that lead to lung cancer had bee...   \n",
            "2  Passive smoking means breathing in other peopl...   \n",
            "3  Thirdhand smoke is a toxic residue that settle...   \n",
            "4  Choose smoke-free places such as restaurants o...   \n",
            "\n",
            "                                                link  \n",
            "0  https://www.health.gov.au/topics/smoking-vapin...  \n",
            "1           https://www.bbc.com/news/health-51279355  \n",
            "2  https://www.betterhealth.vic.gov.au/health/con...  \n",
            "3  https://pmc.ncbi.nlm.nih.gov/articles/PMC3966506/  \n",
            "4  https://www.mayoclinic.org/diseases-conditions...  \n"
          ]
        }
      ]
    },
    {
      "cell_type": "code",
      "source": [
        "print(\"\\nMissing Values:\")\n",
        "print(data.isnull().sum())  # Count of missing values per column"
      ],
      "metadata": {
        "colab": {
          "base_uri": "https://localhost:8080/"
        },
        "id": "JLXBJZ_0M08e",
        "outputId": "cbbba86c-6cab-46ed-b8c2-125ff760627e"
      },
      "execution_count": 20,
      "outputs": [
        {
          "output_type": "stream",
          "name": "stdout",
          "text": [
            "\n",
            "Missing Values:\n",
            "prompt         0\n",
            "question       2\n",
            "title          3\n",
            "description    3\n",
            "link           3\n",
            "dtype: int64\n"
          ]
        }
      ]
    },
    {
      "cell_type": "code",
      "source": [
        "print(\"\\nSummary Statistics:\")\n",
        "print(data.describe(include='all'))  # Summary stats for numerical and categorical data"
      ],
      "metadata": {
        "colab": {
          "base_uri": "https://localhost:8080/"
        },
        "id": "CyV_KacqKuwE",
        "outputId": "63c7dca2-3036-488b-f37a-a408e8937d42"
      },
      "execution_count": 22,
      "outputs": [
        {
          "output_type": "stream",
          "name": "stdout",
          "text": [
            "\n",
            "Summary Statistics:\n",
            "                                                   prompt  \\\n",
            "count                                                 498   \n",
            "unique                                                126   \n",
            "top     Are there smoking options that don’t produce s...   \n",
            "freq                                                    4   \n",
            "\n",
            "                                   question  \\\n",
            "count                                   496   \n",
            "unique                                  378   \n",
            "top     Is IQOS better than cigarettes NHS?   \n",
            "freq                                     11   \n",
            "\n",
            "                                              title  \\\n",
            "count                                           495   \n",
            "unique                                          319   \n",
            "top     Are there safe smoking and tobacco options?   \n",
            "freq                                             11   \n",
            "\n",
            "                                              description  \\\n",
            "count                                                 495   \n",
            "unique                                                342   \n",
            "top     In recent years, e-cigarettes have become a ve...   \n",
            "freq                                                   11   \n",
            "\n",
            "                                                     link  \n",
            "count                                                 495  \n",
            "unique                                                312  \n",
            "top     https://www.health.gov.au/topics/smoking-vapin...  \n",
            "freq                                                   11  \n"
          ]
        }
      ]
    },
    {
      "cell_type": "code",
      "source": [
        "# Handle missing values\n",
        "print(\"\\nBefore Cleaning - Missing Values:\")\n",
        "print(data.isnull().sum())"
      ],
      "metadata": {
        "colab": {
          "base_uri": "https://localhost:8080/"
        },
        "id": "fypp7AYvKutr",
        "outputId": "0b96f342-a6de-4181-f7da-4cccbe9fc36a"
      },
      "execution_count": 23,
      "outputs": [
        {
          "output_type": "stream",
          "name": "stdout",
          "text": [
            "\n",
            "Before Cleaning - Missing Values:\n",
            "prompt         0\n",
            "question       2\n",
            "title          3\n",
            "description    3\n",
            "link           3\n",
            "dtype: int64\n"
          ]
        }
      ]
    },
    {
      "cell_type": "code",
      "source": [
        "# Remove rows with missing questions (critical for analysis)\n",
        "data = data.dropna(subset=['question'])\n",
        "\n",
        "# Remove rows with missing title, description, or link (optional; depends on importance)\n",
        "data = data.dropna(subset=['title', 'description', 'link'])\n",
        "\n",
        "# Drop duplicate rows\n",
        "data = data.drop_duplicates()"
      ],
      "metadata": {
        "id": "-7cAJ97mKurM"
      },
      "execution_count": 24,
      "outputs": []
    },
    {
      "cell_type": "code",
      "source": [
        "# Standardize text formatting: lowercase, strip extra whitespace\n",
        "for col in ['prompt', 'question', 'title', 'description']:\n",
        "    data[col] = data[col].str.strip().str.lower()\n",
        "\n",
        "print(\"\\nAfter Cleaning - Missing Values:\")\n",
        "print(data.isnull().sum())"
      ],
      "metadata": {
        "colab": {
          "base_uri": "https://localhost:8080/"
        },
        "id": "za5roMvvKuoc",
        "outputId": "29459789-c057-4d15-f1ce-7d4ef4263522"
      },
      "execution_count": 25,
      "outputs": [
        {
          "output_type": "stream",
          "name": "stdout",
          "text": [
            "\n",
            "After Cleaning - Missing Values:\n",
            "prompt         0\n",
            "question       0\n",
            "title          0\n",
            "description    0\n",
            "link           0\n",
            "dtype: int64\n"
          ]
        }
      ]
    },
    {
      "cell_type": "code",
      "source": [
        "# Check dataset shape after cleaning\n",
        "print(f\"\\nDataset shape after cleaning: {data.shape}\")"
      ],
      "metadata": {
        "colab": {
          "base_uri": "https://localhost:8080/"
        },
        "id": "82hX3lNTKuhE",
        "outputId": "08907fe8-c10b-4845-8dd5-602e31a9481b"
      },
      "execution_count": 26,
      "outputs": [
        {
          "output_type": "stream",
          "name": "stdout",
          "text": [
            "\n",
            "Dataset shape after cleaning: (495, 5)\n"
          ]
        }
      ]
    },
    {
      "cell_type": "code",
      "source": [
        "data.head()"
      ],
      "metadata": {
        "colab": {
          "base_uri": "https://localhost:8080/",
          "height": 293
        },
        "id": "8y6NkPolKuec",
        "outputId": "c40f40c3-5d5a-40c9-98cf-dd738deaee66"
      },
      "execution_count": 28,
      "outputs": [
        {
          "output_type": "execute_result",
          "data": {
            "text/plain": [
              "                                              prompt  \\\n",
              "0  are there smoking options that don’t produce s...   \n",
              "1  are there smoking options that don’t produce s...   \n",
              "2  are there smoking options that don’t produce s...   \n",
              "3  are there smoking options that don’t produce s...   \n",
              "4  how can i smoke without affecting others aroun...   \n",
              "\n",
              "                                           question  \\\n",
              "0                what is the safest smoking option?   \n",
              "1         can lungs heal after 40 years of smoking?   \n",
              "2         is there such a thing as passive smoking?   \n",
              "3               how long does thirdhand smoke last?   \n",
              "4  how do you not get affected by secondhand smoke?   \n",
              "\n",
              "                                               title  \\\n",
              "0        are there safe smoking and tobacco options?   \n",
              "1   lungs 'magically' heal damage from smoking - bbc   \n",
              "2            passive smoking - better health channel   \n",
              "3           thirdhand smoke beliefs of parents - pmc   \n",
              "4  heart attack prevention: should i avoid second...   \n",
              "\n",
              "                                         description  \\\n",
              "0  there is no safe smoking option – tobacco is a...   \n",
              "1  the mutations that lead to lung cancer had bee...   \n",
              "2  passive smoking means breathing in other peopl...   \n",
              "3  thirdhand smoke is a toxic residue that settle...   \n",
              "4  choose smoke-free places such as restaurants o...   \n",
              "\n",
              "                                                link  \n",
              "0  https://www.health.gov.au/topics/smoking-vapin...  \n",
              "1           https://www.bbc.com/news/health-51279355  \n",
              "2  https://www.betterhealth.vic.gov.au/health/con...  \n",
              "3  https://pmc.ncbi.nlm.nih.gov/articles/PMC3966506/  \n",
              "4  https://www.mayoclinic.org/diseases-conditions...  "
            ],
            "text/html": [
              "\n",
              "  <div id=\"df-a590dbd7-1b96-47c3-a360-a7c4d83c94c1\" class=\"colab-df-container\">\n",
              "    <div>\n",
              "<style scoped>\n",
              "    .dataframe tbody tr th:only-of-type {\n",
              "        vertical-align: middle;\n",
              "    }\n",
              "\n",
              "    .dataframe tbody tr th {\n",
              "        vertical-align: top;\n",
              "    }\n",
              "\n",
              "    .dataframe thead th {\n",
              "        text-align: right;\n",
              "    }\n",
              "</style>\n",
              "<table border=\"1\" class=\"dataframe\">\n",
              "  <thead>\n",
              "    <tr style=\"text-align: right;\">\n",
              "      <th></th>\n",
              "      <th>prompt</th>\n",
              "      <th>question</th>\n",
              "      <th>title</th>\n",
              "      <th>description</th>\n",
              "      <th>link</th>\n",
              "    </tr>\n",
              "  </thead>\n",
              "  <tbody>\n",
              "    <tr>\n",
              "      <th>0</th>\n",
              "      <td>are there smoking options that don’t produce s...</td>\n",
              "      <td>what is the safest smoking option?</td>\n",
              "      <td>are there safe smoking and tobacco options?</td>\n",
              "      <td>there is no safe smoking option – tobacco is a...</td>\n",
              "      <td>https://www.health.gov.au/topics/smoking-vapin...</td>\n",
              "    </tr>\n",
              "    <tr>\n",
              "      <th>1</th>\n",
              "      <td>are there smoking options that don’t produce s...</td>\n",
              "      <td>can lungs heal after 40 years of smoking?</td>\n",
              "      <td>lungs 'magically' heal damage from smoking - bbc</td>\n",
              "      <td>the mutations that lead to lung cancer had bee...</td>\n",
              "      <td>https://www.bbc.com/news/health-51279355</td>\n",
              "    </tr>\n",
              "    <tr>\n",
              "      <th>2</th>\n",
              "      <td>are there smoking options that don’t produce s...</td>\n",
              "      <td>is there such a thing as passive smoking?</td>\n",
              "      <td>passive smoking - better health channel</td>\n",
              "      <td>passive smoking means breathing in other peopl...</td>\n",
              "      <td>https://www.betterhealth.vic.gov.au/health/con...</td>\n",
              "    </tr>\n",
              "    <tr>\n",
              "      <th>3</th>\n",
              "      <td>are there smoking options that don’t produce s...</td>\n",
              "      <td>how long does thirdhand smoke last?</td>\n",
              "      <td>thirdhand smoke beliefs of parents - pmc</td>\n",
              "      <td>thirdhand smoke is a toxic residue that settle...</td>\n",
              "      <td>https://pmc.ncbi.nlm.nih.gov/articles/PMC3966506/</td>\n",
              "    </tr>\n",
              "    <tr>\n",
              "      <th>4</th>\n",
              "      <td>how can i smoke without affecting others aroun...</td>\n",
              "      <td>how do you not get affected by secondhand smoke?</td>\n",
              "      <td>heart attack prevention: should i avoid second...</td>\n",
              "      <td>choose smoke-free places such as restaurants o...</td>\n",
              "      <td>https://www.mayoclinic.org/diseases-conditions...</td>\n",
              "    </tr>\n",
              "  </tbody>\n",
              "</table>\n",
              "</div>\n",
              "    <div class=\"colab-df-buttons\">\n",
              "\n",
              "  <div class=\"colab-df-container\">\n",
              "    <button class=\"colab-df-convert\" onclick=\"convertToInteractive('df-a590dbd7-1b96-47c3-a360-a7c4d83c94c1')\"\n",
              "            title=\"Convert this dataframe to an interactive table.\"\n",
              "            style=\"display:none;\">\n",
              "\n",
              "  <svg xmlns=\"http://www.w3.org/2000/svg\" height=\"24px\" viewBox=\"0 -960 960 960\">\n",
              "    <path d=\"M120-120v-720h720v720H120Zm60-500h600v-160H180v160Zm220 220h160v-160H400v160Zm0 220h160v-160H400v160ZM180-400h160v-160H180v160Zm440 0h160v-160H620v160ZM180-180h160v-160H180v160Zm440 0h160v-160H620v160Z\"/>\n",
              "  </svg>\n",
              "    </button>\n",
              "\n",
              "  <style>\n",
              "    .colab-df-container {\n",
              "      display:flex;\n",
              "      gap: 12px;\n",
              "    }\n",
              "\n",
              "    .colab-df-convert {\n",
              "      background-color: #E8F0FE;\n",
              "      border: none;\n",
              "      border-radius: 50%;\n",
              "      cursor: pointer;\n",
              "      display: none;\n",
              "      fill: #1967D2;\n",
              "      height: 32px;\n",
              "      padding: 0 0 0 0;\n",
              "      width: 32px;\n",
              "    }\n",
              "\n",
              "    .colab-df-convert:hover {\n",
              "      background-color: #E2EBFA;\n",
              "      box-shadow: 0px 1px 2px rgba(60, 64, 67, 0.3), 0px 1px 3px 1px rgba(60, 64, 67, 0.15);\n",
              "      fill: #174EA6;\n",
              "    }\n",
              "\n",
              "    .colab-df-buttons div {\n",
              "      margin-bottom: 4px;\n",
              "    }\n",
              "\n",
              "    [theme=dark] .colab-df-convert {\n",
              "      background-color: #3B4455;\n",
              "      fill: #D2E3FC;\n",
              "    }\n",
              "\n",
              "    [theme=dark] .colab-df-convert:hover {\n",
              "      background-color: #434B5C;\n",
              "      box-shadow: 0px 1px 3px 1px rgba(0, 0, 0, 0.15);\n",
              "      filter: drop-shadow(0px 1px 2px rgba(0, 0, 0, 0.3));\n",
              "      fill: #FFFFFF;\n",
              "    }\n",
              "  </style>\n",
              "\n",
              "    <script>\n",
              "      const buttonEl =\n",
              "        document.querySelector('#df-a590dbd7-1b96-47c3-a360-a7c4d83c94c1 button.colab-df-convert');\n",
              "      buttonEl.style.display =\n",
              "        google.colab.kernel.accessAllowed ? 'block' : 'none';\n",
              "\n",
              "      async function convertToInteractive(key) {\n",
              "        const element = document.querySelector('#df-a590dbd7-1b96-47c3-a360-a7c4d83c94c1');\n",
              "        const dataTable =\n",
              "          await google.colab.kernel.invokeFunction('convertToInteractive',\n",
              "                                                    [key], {});\n",
              "        if (!dataTable) return;\n",
              "\n",
              "        const docLinkHtml = 'Like what you see? Visit the ' +\n",
              "          '<a target=\"_blank\" href=https://colab.research.google.com/notebooks/data_table.ipynb>data table notebook</a>'\n",
              "          + ' to learn more about interactive tables.';\n",
              "        element.innerHTML = '';\n",
              "        dataTable['output_type'] = 'display_data';\n",
              "        await google.colab.output.renderOutput(dataTable, element);\n",
              "        const docLink = document.createElement('div');\n",
              "        docLink.innerHTML = docLinkHtml;\n",
              "        element.appendChild(docLink);\n",
              "      }\n",
              "    </script>\n",
              "  </div>\n",
              "\n",
              "\n",
              "<div id=\"df-3e7cbb35-7e7d-4129-8e01-58d8f86e28ff\">\n",
              "  <button class=\"colab-df-quickchart\" onclick=\"quickchart('df-3e7cbb35-7e7d-4129-8e01-58d8f86e28ff')\"\n",
              "            title=\"Suggest charts\"\n",
              "            style=\"display:none;\">\n",
              "\n",
              "<svg xmlns=\"http://www.w3.org/2000/svg\" height=\"24px\"viewBox=\"0 0 24 24\"\n",
              "     width=\"24px\">\n",
              "    <g>\n",
              "        <path d=\"M19 3H5c-1.1 0-2 .9-2 2v14c0 1.1.9 2 2 2h14c1.1 0 2-.9 2-2V5c0-1.1-.9-2-2-2zM9 17H7v-7h2v7zm4 0h-2V7h2v10zm4 0h-2v-4h2v4z\"/>\n",
              "    </g>\n",
              "</svg>\n",
              "  </button>\n",
              "\n",
              "<style>\n",
              "  .colab-df-quickchart {\n",
              "      --bg-color: #E8F0FE;\n",
              "      --fill-color: #1967D2;\n",
              "      --hover-bg-color: #E2EBFA;\n",
              "      --hover-fill-color: #174EA6;\n",
              "      --disabled-fill-color: #AAA;\n",
              "      --disabled-bg-color: #DDD;\n",
              "  }\n",
              "\n",
              "  [theme=dark] .colab-df-quickchart {\n",
              "      --bg-color: #3B4455;\n",
              "      --fill-color: #D2E3FC;\n",
              "      --hover-bg-color: #434B5C;\n",
              "      --hover-fill-color: #FFFFFF;\n",
              "      --disabled-bg-color: #3B4455;\n",
              "      --disabled-fill-color: #666;\n",
              "  }\n",
              "\n",
              "  .colab-df-quickchart {\n",
              "    background-color: var(--bg-color);\n",
              "    border: none;\n",
              "    border-radius: 50%;\n",
              "    cursor: pointer;\n",
              "    display: none;\n",
              "    fill: var(--fill-color);\n",
              "    height: 32px;\n",
              "    padding: 0;\n",
              "    width: 32px;\n",
              "  }\n",
              "\n",
              "  .colab-df-quickchart:hover {\n",
              "    background-color: var(--hover-bg-color);\n",
              "    box-shadow: 0 1px 2px rgba(60, 64, 67, 0.3), 0 1px 3px 1px rgba(60, 64, 67, 0.15);\n",
              "    fill: var(--button-hover-fill-color);\n",
              "  }\n",
              "\n",
              "  .colab-df-quickchart-complete:disabled,\n",
              "  .colab-df-quickchart-complete:disabled:hover {\n",
              "    background-color: var(--disabled-bg-color);\n",
              "    fill: var(--disabled-fill-color);\n",
              "    box-shadow: none;\n",
              "  }\n",
              "\n",
              "  .colab-df-spinner {\n",
              "    border: 2px solid var(--fill-color);\n",
              "    border-color: transparent;\n",
              "    border-bottom-color: var(--fill-color);\n",
              "    animation:\n",
              "      spin 1s steps(1) infinite;\n",
              "  }\n",
              "\n",
              "  @keyframes spin {\n",
              "    0% {\n",
              "      border-color: transparent;\n",
              "      border-bottom-color: var(--fill-color);\n",
              "      border-left-color: var(--fill-color);\n",
              "    }\n",
              "    20% {\n",
              "      border-color: transparent;\n",
              "      border-left-color: var(--fill-color);\n",
              "      border-top-color: var(--fill-color);\n",
              "    }\n",
              "    30% {\n",
              "      border-color: transparent;\n",
              "      border-left-color: var(--fill-color);\n",
              "      border-top-color: var(--fill-color);\n",
              "      border-right-color: var(--fill-color);\n",
              "    }\n",
              "    40% {\n",
              "      border-color: transparent;\n",
              "      border-right-color: var(--fill-color);\n",
              "      border-top-color: var(--fill-color);\n",
              "    }\n",
              "    60% {\n",
              "      border-color: transparent;\n",
              "      border-right-color: var(--fill-color);\n",
              "    }\n",
              "    80% {\n",
              "      border-color: transparent;\n",
              "      border-right-color: var(--fill-color);\n",
              "      border-bottom-color: var(--fill-color);\n",
              "    }\n",
              "    90% {\n",
              "      border-color: transparent;\n",
              "      border-bottom-color: var(--fill-color);\n",
              "    }\n",
              "  }\n",
              "</style>\n",
              "\n",
              "  <script>\n",
              "    async function quickchart(key) {\n",
              "      const quickchartButtonEl =\n",
              "        document.querySelector('#' + key + ' button');\n",
              "      quickchartButtonEl.disabled = true;  // To prevent multiple clicks.\n",
              "      quickchartButtonEl.classList.add('colab-df-spinner');\n",
              "      try {\n",
              "        const charts = await google.colab.kernel.invokeFunction(\n",
              "            'suggestCharts', [key], {});\n",
              "      } catch (error) {\n",
              "        console.error('Error during call to suggestCharts:', error);\n",
              "      }\n",
              "      quickchartButtonEl.classList.remove('colab-df-spinner');\n",
              "      quickchartButtonEl.classList.add('colab-df-quickchart-complete');\n",
              "    }\n",
              "    (() => {\n",
              "      let quickchartButtonEl =\n",
              "        document.querySelector('#df-3e7cbb35-7e7d-4129-8e01-58d8f86e28ff button');\n",
              "      quickchartButtonEl.style.display =\n",
              "        google.colab.kernel.accessAllowed ? 'block' : 'none';\n",
              "    })();\n",
              "  </script>\n",
              "</div>\n",
              "\n",
              "    </div>\n",
              "  </div>\n"
            ],
            "application/vnd.google.colaboratory.intrinsic+json": {
              "type": "dataframe",
              "variable_name": "data",
              "summary": "{\n  \"name\": \"data\",\n  \"rows\": 495,\n  \"fields\": [\n    {\n      \"column\": \"prompt\",\n      \"properties\": {\n        \"dtype\": \"category\",\n        \"num_unique_values\": 124,\n        \"samples\": [\n          \"what are modern alternatives for smoking without the typical odor?\",\n          \"does iqos offer any subscription plans to reduce costs?\",\n          \"is iqos cheaper than smoking regular cigarettes?\"\n        ],\n        \"semantic_type\": \"\",\n        \"description\": \"\"\n      }\n    },\n    {\n      \"column\": \"question\",\n      \"properties\": {\n        \"dtype\": \"string\",\n        \"num_unique_values\": 376,\n        \"samples\": [\n          \"how many sessions are there in iqos iluma?\",\n          \"what can you use instead of a cigarette filter?\",\n          \"what is the smallest iqos?\"\n        ],\n        \"semantic_type\": \"\",\n        \"description\": \"\"\n      }\n    },\n    {\n      \"column\": \"title\",\n      \"properties\": {\n        \"dtype\": \"string\",\n        \"num_unique_values\": 319,\n        \"samples\": [\n          \"discover smoke free tobacco with iqos | iqos saudi arabia\",\n          \"how to use iqos - a beginners guide for iqos\",\n          \"secondhand smoke effects on the body - unitypoint health\"\n        ],\n        \"semantic_type\": \"\",\n        \"description\": \"\"\n      }\n    },\n    {\n      \"column\": \"description\",\n      \"properties\": {\n        \"dtype\": \"string\",\n        \"num_unique_values\": 342,\n        \"samples\": [\n          \"for a better heated tobacco experience at an accessible price point, iqos iluma one is the device for you. iqos iluma\\u2122 is designed to be used only with smartcore sticks. do not use iqos iluma\\u2122 and smartcore sticks with previous iqos\\u2122 generations, as this may cause damage to your device.\",\n          \"iqos leaves less lingering smell than cigarettes. iqos generates no cigarette smoke smell and iqos leaves less smell on furniture and fabric than cigarettes. as iqos produces less smell than cigarettes, it is less likely to bother people around you.\",\n          \"before you start using it, fully charge your device with a power adapter and charging cable (for about 135 minutes). ...\\npress and hold the pocket charger button for 4 seconds and release it. ...\\ngently insert a smartcore stick\\u2122 as you see doing in the video.\"\n        ],\n        \"semantic_type\": \"\",\n        \"description\": \"\"\n      }\n    },\n    {\n      \"column\": \"link\",\n      \"properties\": {\n        \"dtype\": \"string\",\n        \"num_unique_values\": 312,\n        \"samples\": [\n          \"https://www.iqos.com/gb/en/blog/iqos-vs-cigarettes.html\",\n          \"https://quittobaccosd.com/thinking-about-quitting-quit-tobacco/smoke-break-alternatives\",\n          \"https://www.ploom.ch/en/support/faq/is-ploom-x-advanced-safer\"\n        ],\n        \"semantic_type\": \"\",\n        \"description\": \"\"\n      }\n    }\n  ]\n}"
            }
          },
          "metadata": {},
          "execution_count": 28
        }
      ]
    }
  ]
}